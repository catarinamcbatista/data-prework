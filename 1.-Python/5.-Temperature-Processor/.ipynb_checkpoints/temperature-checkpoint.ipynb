{
 "cells": [
  {
   "cell_type": "markdown",
   "metadata": {},
   "source": [
    "<img src=\"https://bit.ly/2VnXWr2\" width=\"100\" align=\"left\">"
   ]
  },
  {
   "cell_type": "markdown",
   "metadata": {},
   "source": [
    "# Temperature Sensor\n",
    "\n",
    "There is a temperature sensor in the processor of your company's server. The company wants to analyze the data provided by the sensor to decide if they should change the cooling system for a better one. As changing the cooling system is expensive and you are an excellent data analyst, you can't make a decision without basis.\n",
    "\n",
    "## Tools\n",
    "You don't necessarily need to use all the tools. Maybe you opt to use some of them or completely different ones, they are given to help you shape the exercise. Programming exercises can be solved in many different ways.\n",
    "1. Data structures: **lists**\n",
    "2. Loops: **list comprehension**\n",
    "3. Functions: **min, max, print, len**\n",
    "4. Conditional statements: **if-elif-else**\n",
    "\n",
    "## Tasks\n",
    "The temperatures measured throughout the 24 hours of a day are:"
   ]
  },
  {
   "cell_type": "code",
   "execution_count": 10,
   "metadata": {},
   "outputs": [],
   "source": [
    "temperatures_C = [33, 66, 65, 0, 59, 60, 62, 64, 70, 76, 80, 81, 80, 83, 90, 79, 61, 53, 50, 49, 53, 48, 45, 39]"
   ]
  },
  {
   "cell_type": "markdown",
   "metadata": {},
   "source": [
    "The first element of the list is the temperature at 12am, the second element is the temperature at 1am, and so on. \n",
    "\n",
    "The company has decided that if one of the following events occurs, then the cooling system needs to be replaced for a new one to avoid damaging the processor.\n",
    "* More than 4 temperatures are greater than or equal to 70ºC.\n",
    "* Any temperature is above 80ºC.\n",
    "* The average temperature exceeds 65ºC.\n",
    "\n",
    "Follow the steps so that you can make the decision.\n",
    "\n",
    "#### 1. Find the minimum temperature of the day and store it in a variable."
   ]
  },
  {
   "cell_type": "code",
   "execution_count": 11,
   "metadata": {},
   "outputs": [
    {
     "name": "stdout",
     "output_type": "stream",
     "text": [
      "Temperature list: [33, 66, 65, 0, 59, 60, 62, 64, 70, 76, 80, 81, 80, 83, 90, 79, 61, 53, 50, 49, 53, 48, 45, 39]\n",
      "The minimum temperature of the day is  0 C.\n"
     ]
    }
   ],
   "source": [
    "temperatures_c = []\n",
    "temperatures_c = [33, 66, 65, 0, 59, 60, 62, 64, 70, 76, 80, 81, 80, 83, 90, 79, 61, 53, 50, 49, 53, 48, 45, 39]\n",
    "print(\"Temperature list:\",temperatures_c)\n",
    "\n",
    "min_temperature=[]\n",
    "min_temperature=min(temperatures_c)\n",
    "print(\"The minimum temperature of the day is \",min_temperature,\"C.\")"
   ]
  },
  {
   "cell_type": "markdown",
   "metadata": {},
   "source": [
    "#### 2. Find the maximum temperature of the day and store it in a variable."
   ]
  },
  {
   "cell_type": "code",
   "execution_count": 12,
   "metadata": {},
   "outputs": [
    {
     "name": "stdout",
     "output_type": "stream",
     "text": [
      "The maximum temperature of the day is  90 C.\n"
     ]
    }
   ],
   "source": [
    "max_temperature=[]\n",
    "max_temperature=max(temperatures_c)\n",
    "print(\"The maximum temperature of the day is \",max_temperature,\"C.\")"
   ]
  },
  {
   "cell_type": "markdown",
   "metadata": {},
   "source": [
    "#### 3. Create a list with the temperatures that are greater than or equal to 70ºC. Store it in a variable."
   ]
  },
  {
   "cell_type": "code",
   "execution_count": 13,
   "metadata": {},
   "outputs": [
    {
     "name": "stdout",
     "output_type": "stream",
     "text": [
      "Temperature list: [33, 66, 65, 0, 59, 60, 62, 64, 70, 76, 80, 81, 80, 83, 90, 79, 61, 53, 50, 49, 53, 48, 45, 39]\n",
      "The list of temperature higher than 70C: [70, 76, 80, 81, 80, 83, 90, 79]\n"
     ]
    }
   ],
   "source": [
    "temperatures_c = []\n",
    "temperatures_c = [33, 66, 65, 0, 59, 60, 62, 64, 70, 76, 80, 81, 80, 83, 90, 79, 61, 53, 50, 49, 53, 48, 45, 39]\n",
    "print(\"Temperature list:\",temperatures_c)\n",
    "\n",
    "temperatures_c= [x for x in temperatures_c if x >= 70]\n",
    "print(\"The list of temperature higher than 70C:\",temperatures_c)"
   ]
  },
  {
   "cell_type": "markdown",
   "metadata": {},
   "source": [
    "#### 4. Find the average temperature of the day and store it in a variable."
   ]
  },
  {
   "cell_type": "code",
   "execution_count": 22,
   "metadata": {},
   "outputs": [
    {
     "name": "stdout",
     "output_type": "stream",
     "text": [
      "Temperature list: [33, 66, 65, 0, 59, 60, 62, 64, 70, 76, 80, 81, 80, 83, 90, 79, 61, 53, 50, 49, 53, 48, 45, 39]\n",
      "60.25\n"
     ]
    }
   ],
   "source": [
    "temperatures_c = []\n",
    "temperatures_c = [33, 66, 65, 0, 59, 60, 62, 64, 70, 76, 80, 81, 80, 83, 90, 79, 61, 53, 50, 49, 53, 48, 45, 39]\n",
    "print(\"Temperature list:\",temperatures_c)\n",
    "\n",
    "average=[]\n",
    "average= sum(temperatures_c)/len(temperatures_c)\n",
    "print(average)"
   ]
  },
  {
   "cell_type": "markdown",
   "metadata": {},
   "source": [
    "#### 5. Imagine that there was a sensor failure at 3am and the data for that specific hour was not recorded. How would you estimate the missing value? Replace the current value of the list at 3am for an estimation. "
   ]
  },
  {
   "cell_type": "code",
   "execution_count": 25,
   "metadata": {},
   "outputs": [
    {
     "name": "stdout",
     "output_type": "stream",
     "text": [
      "3am temperature might be: 68.0\n"
     ]
    }
   ],
   "source": [
    "#As the temperature is decreasing between 2 am and 4 am, I would think about the difference and divided to each an \n",
    "# average between the two temperatures and add add it to the highest number  3am=((2am-4am)/2)+2am\n",
    "\n",
    "three_am=[]\n",
    "three_am= (((temperatures_c[2]-temperatures_c[4])/2)+temperatures_c[2])\n",
    "\n",
    "print(\"3am temperature might be:\",three_am)"
   ]
  },
  {
   "cell_type": "markdown",
   "metadata": {},
   "source": [
    "#### 6. Bonus: the maintenance staff is from the United States and does not understand the international metric system. Help them by converting the temperatures from Celsius to Fahrenheit.\n",
    "To know more about temperature conversion check this [link](https://en.wikipedia.org/wiki/Conversion_of_units_of_temperature).\n",
    "\n",
    "**Formula**: \n",
    "\n",
    "$F = 1.8 * C + 32$"
   ]
  },
  {
   "cell_type": "code",
   "execution_count": 11,
   "metadata": {},
   "outputs": [
    {
     "name": "stdout",
     "output_type": "stream",
     "text": [
      "Temperature list in C: [33, 66, 65, 0, 59, 60, 62, 64, 70, 76, 80, 81, 80, 83, 90, 79, 61, 53, 50, 49, 53, 48, 45, 39]\n",
      "Temperature list in F: [91, 150, 149, 32, 138, 140, 143, 147, 158, 168, 176, 177, 176, 181, 194, 174, 141, 127, 122, 120, 127, 118, 113, 102]\n"
     ]
    }
   ],
   "source": [
    "temperatures_c = []\n",
    "temperatures_c = [33, 66, 65, 0, 59, 60, 62, 64, 70, 76, 80, 81, 80, 83, 90, 79, 61, 53, 50, 49, 53, 48, 45, 39]\n",
    "print(\"Temperature list in C:\",temperatures_c)\n",
    "\n",
    "temperatures_f = []\n",
    "\n",
    "for i in temperatures_c:\n",
    "    f=int((i*1.8)+32)\n",
    "    temperatures_f.append(f)\n",
    "print(\"Temperature list in F:\",temperatures_f)"
   ]
  },
  {
   "cell_type": "markdown",
   "metadata": {},
   "source": [
    "#### 7. Make a decision!\n",
    "Now it's time to make a decision taking into account what you have seen until now. \n",
    "\n",
    "Remember that if one of the following events occurs, then the cooling system needs to be replaced for a new one to avoid damaging the processor.\n",
    "* More than 4 temperatures are greater than or equal to 70ºC.\n",
    "* Any temperature is above 80ºC.\n",
    "* The average temperature exceeds 65ºC.\n",
    "\n",
    "#### To make your decision, check if any of the three conditions above is met. You might need to use some of the variables you created in steps 1 to 6. Print a message to show if the cooling system needs to be changed or not."
   ]
  },
  {
   "cell_type": "code",
   "execution_count": 7,
   "metadata": {},
   "outputs": [
    {
     "name": "stdout",
     "output_type": "stream",
     "text": [
      "Temperature list in C: [33, 66, 65, 0, 59, 60, 62, 64, 70, 76, 80, 81, 80, 83, 90, 79, 61, 53, 50, 49, 53, 48, 45, 39]\n",
      "Temperature list higher then 70: [70, 76, 80, 81, 80, 83, 90, 79]\n",
      "79.875\n",
      "Replace cooling system.\n",
      "Replace cooling system.\n",
      "Replace cooling system.\n",
      "Replace cooling system.\n",
      "Replace cooling system.\n",
      "Replace cooling system.\n",
      "Replace cooling system.\n",
      "Replace cooling system.\n"
     ]
    }
   ],
   "source": [
    "temperatures_c = []\n",
    "temperatures_c = [33, 66, 65, 0, 59, 60, 62, 64, 70, 76, 80, 81, 80, 83, 90, 79, 61, 53, 50, 49, 53, 48, 45, 39]\n",
    "print(\"Temperature list in C:\",temperatures_c)\n",
    "\n",
    "temperatures_x= []\n",
    "\n",
    "temperatures_x= [x for x in temperatures_c if x >= 70]\n",
    "print(\"Temperature list higher then 70:\",temperatures_x)\n",
    "\n",
    "average=[]\n",
    "average= sum(temperatures_x)/len(temperatures_x)\n",
    "print(average)\n",
    "\n",
    "for i in temperatures_x:\n",
    "    if max(temperatures_x)>80:\n",
    "        print(\"Replace cooling system.\")\n",
    "    elif len(temperatures_x)>4:\n",
    "         print(\"Replace cooling system.\")\n",
    "    elif average>65:\n",
    "        print(\"Replace cooling system.\")\n",
    "    else:\n",
    "        print(\"Doens't need replacement.\")\n",
    "\n"
   ]
  },
  {
   "cell_type": "markdown",
   "metadata": {},
   "source": [
    "## Bonus\n",
    "\n",
    "The company has decided that the decision you made is not valid. They want you to analyze the data again but this time, the conditions that need to be met in order to change the cooling system are different.\n",
    "\n",
    "This time, if one of the following events occurs, then the cooling system needs to be replaced:\n",
    "* The temperature is greater than 70ºC during more than 4 consecutive hours.\n",
    "* Any temperature is above 80ºC.\n",
    "* The average temperature exceeds 65ºC.\n",
    "\n",
    "Follow the steps so that you can make the decision.\n",
    "\n",
    "#### 1. Create a list with the hours where the temperature is greater than 70ºC. Store it in a variable."
   ]
  },
  {
   "cell_type": "code",
   "execution_count": 10,
   "metadata": {},
   "outputs": [
    {
     "name": "stdout",
     "output_type": "stream",
     "text": [
      "Temperature list higher then 70: [70, 76, 80, 81, 80, 83, 90, 79]\n"
     ]
    }
   ],
   "source": [
    "temperatures_c = []\n",
    "temperatures_c = [33, 66, 65, 0, 59, 60, 62, 64, 70, 76, 80, 81, 80, 83, 90, 79, 61, 53, 50, 49, 53, 48, 45, 39]\n",
    "\n",
    "temperatures_x= []\n",
    "\n",
    "temperatures_x= [x for x in temperatures_c if x >= 70]\n",
    "print(\"Temperature list higher then 70:\",temperatures_x)\n"
   ]
  },
  {
   "cell_type": "markdown",
   "metadata": {},
   "source": [
    "#### 2. Check if the list you created in step 1 has more than 4 consecutive hours. "
   ]
  },
  {
   "cell_type": "code",
   "execution_count": 11,
   "metadata": {},
   "outputs": [
    {
     "name": "stdout",
     "output_type": "stream",
     "text": [
      "The list of temperature higher than 70 in more than 4 consecutive hours: [[(70, 76, 80, 81), (76, 80, 81, 80), (80, 81, 80, 83), (81, 80, 83, 90), (80, 83, 90, 79)]]\n"
     ]
    }
   ],
   "source": [
    "def find_n_consecutive_greater(temperatures_x, n, x):\n",
    "    num_greater = 0\n",
    "    for index, val in enumerate(temperatures_x):\n",
    "        if val > x:\n",
    "            num_greater += 1\n",
    "            if num_greater == n:\n",
    "                yield tuple(temperatures_x[index-n+1:index+1])\n",
    "                num_greater -= 1\n",
    "        else:\n",
    "            num_greater = 0\n",
    "n = 4\n",
    "x = 1\n",
    "\n",
    "four_hours= []\n",
    "four_hours= [list(find_n_consecutive_greater(temperatures_x, n, x))]\n",
    "\n",
    "print(\"The list of temperature higher than 70 in more than 4 consecutive hours:\",four_hours)\n"
   ]
  },
  {
   "cell_type": "markdown",
   "metadata": {},
   "source": [
    "#### 3. Make the decision!\n",
    "four_hours= []\n",
    "four_hours= [list(find_n_consecutive_greater(temperatures_x, n, x))]To make your decision, check if any of the three conditions is met. Print a message to show if the cooling system needs to be changed or not."
   ]
  },
  {
   "cell_type": "code",
   "execution_count": 21,
   "metadata": {},
   "outputs": [
    {
     "ename": "ValueError",
     "evalue": "too many values to unpack (expected 2)",
     "output_type": "error",
     "traceback": [
      "\u001b[0;31m---------------------------------------------------------------------------\u001b[0m",
      "\u001b[0;31mValueError\u001b[0m                                Traceback (most recent call last)",
      "\u001b[0;32m<ipython-input-21-c27826bad1af>\u001b[0m in \u001b[0;36m<module>\u001b[0;34m\u001b[0m\n\u001b[0;32m----> 1\u001b[0;31m \u001b[0;32mfor\u001b[0m \u001b[0mi\u001b[0m\u001b[0;34m,\u001b[0m\u001b[0my\u001b[0m \u001b[0;32min\u001b[0m \u001b[0mfour_hours\u001b[0m\u001b[0;34m:\u001b[0m\u001b[0;34m\u001b[0m\u001b[0;34m\u001b[0m\u001b[0m\n\u001b[0m\u001b[1;32m      2\u001b[0m     \u001b[0;32mif\u001b[0m \u001b[0mmax\u001b[0m\u001b[0;34m(\u001b[0m\u001b[0mfour_hours\u001b[0m\u001b[0;34m)\u001b[0m\u001b[0;34m>\u001b[0m\u001b[0;36m80\u001b[0m\u001b[0;34m:\u001b[0m\u001b[0;34m\u001b[0m\u001b[0;34m\u001b[0m\u001b[0m\n\u001b[1;32m      3\u001b[0m         \u001b[0mprint\u001b[0m\u001b[0;34m(\u001b[0m\u001b[0;34m\"Replace cooling system.\"\u001b[0m\u001b[0;34m)\u001b[0m\u001b[0;34m\u001b[0m\u001b[0;34m\u001b[0m\u001b[0m\n\u001b[1;32m      4\u001b[0m     \u001b[0;32melif\u001b[0m \u001b[0mlen\u001b[0m\u001b[0;34m(\u001b[0m\u001b[0mfour_hours\u001b[0m\u001b[0;34m)\u001b[0m\u001b[0;34m>\u001b[0m\u001b[0;36m4\u001b[0m\u001b[0;34m:\u001b[0m\u001b[0;34m\u001b[0m\u001b[0;34m\u001b[0m\u001b[0m\n\u001b[1;32m      5\u001b[0m          \u001b[0mprint\u001b[0m\u001b[0;34m(\u001b[0m\u001b[0;34m\"Replace cooling system.\"\u001b[0m\u001b[0;34m)\u001b[0m\u001b[0;34m\u001b[0m\u001b[0;34m\u001b[0m\u001b[0m\n",
      "\u001b[0;31mValueError\u001b[0m: too many values to unpack (expected 2)"
     ]
    }
   ],
   "source": [
    "for i,y in four_hours:\n",
    "    if max(four_hours)>80:\n",
    "        print(\"Replace cooling system.\")\n",
    "    elif len(four_hours)>4:\n",
    "         print(\"Replace cooling system.\")\n",
    "    elif average_f>65:\n",
    "        print(\"Replace cooling system.\")\n",
    "    else:\n",
    "        print(\"Doens't need replacement.\")\n",
    "        \n"
   ]
  },
  {
   "cell_type": "markdown",
   "metadata": {},
   "source": [
    "#### 4. Find the average value of the temperature lists (ºC and ºF). What is the relation between both average values?"
   ]
  },
  {
   "cell_type": "code",
   "execution_count": 19,
   "metadata": {},
   "outputs": [
    {
     "name": "stdout",
     "output_type": "stream",
     "text": [
      "Average C: 60.25\n",
      "Average F: 79.875\n",
      "Difference average C and F: -19.625\n"
     ]
    }
   ],
   "source": [
    "print(\"Average C:\",average_t)\n",
    "\n",
    "average_x = []\n",
    "average_x=sum(temperatures_x)/len(temperatures_x)\n",
    "print(\"Average F:\",average_x)\n",
    "\n",
    "diff_average= []\n",
    "diff_average=average_t-average_x\n",
    "print(\"Difference average C and F:\",diff_average)"
   ]
  },
  {
   "cell_type": "markdown",
   "metadata": {},
   "source": [
    "#### 5. Find the standard deviation of the temperature lists (ºC and ºF). What is the relation between both standard deviations?"
   ]
  },
  {
   "cell_type": "code",
   "execution_count": 23,
   "metadata": {},
   "outputs": [
    {
     "name": "stdout",
     "output_type": "stream",
     "text": [
      "The original list : [33, 66, 65, 0, 59, 60, 62, 64, 70, 76, 80, 81, 80, 83, 90, 79, 61, 53, 50, 49, 53, 48, 45, 39]\n",
      "Standard deviation of temperature in C is : 19.285681216902866\n",
      "The original list : [70, 76, 80, 81, 80, 83, 90, 79]\n",
      "Standard deviation of temperature in F is : 5.3253521010351985\n"
     ]
    }
   ],
   "source": [
    "import statistics \n",
    "\n",
    "print(\"The original list : \" + str(temperatures_c)) \n",
    "\n",
    "res = statistics.pstdev(temperatures_c) \n",
    "\n",
    "print(\"Standard deviation of temperature in C is : \" + str(res))\n",
    "\n",
    "import statistics \n",
    "\n",
    "print(\"The original list : \" + str(temperatures_x)) \n",
    "\n",
    "res = statistics.pstdev(temperatures_x) \n",
    "\n",
    "print(\"Standard deviation of temperature in F is : \" + str(res))"
   ]
  }
 ],
 "metadata": {
  "kernelspec": {
   "display_name": "Python 3",
   "language": "python",
   "name": "python3"
  },
  "language_info": {
   "codemirror_mode": {
    "name": "ipython",
    "version": 3
   },
   "file_extension": ".py",
   "mimetype": "text/x-python",
   "name": "python",
   "nbconvert_exporter": "python",
   "pygments_lexer": "ipython3",
   "version": "3.8.3"
  }
 },
 "nbformat": 4,
 "nbformat_minor": 2
}
