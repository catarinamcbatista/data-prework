{
 "cells": [
  {
   "cell_type": "markdown",
   "metadata": {},
   "source": [
    "<img src=\"https://bit.ly/2VnXWr2\" width=\"100\" align=\"left\">"
   ]
  },
  {
   "cell_type": "markdown",
   "metadata": {},
   "source": [
    "# The Snail and the Well\n",
    "\n",
    "A snail falls at the bottom of a 125 cm well. Each day the snail rises 30 cm. But at night, while sleeping, slides 20 cm because the walls are wet. How many days does it take for the snail to escape the well?\n",
    "\n",
    "**Hint**: The snail gets out of the well when it surpasses the 125cm of height.\n",
    "\n",
    "## Tools\n",
    "\n",
    "1. Loop: **while**\n",
    "2. Conditional statements: **if-else**\n",
    "3. Function: **print()**\n",
    "\n",
    "## Tasks\n",
    "\n",
    "#### 1. Assign the challenge data to variables with representative names: `well_height`, `daily_distance`, `nightly_distance` and `snail_position`."
   ]
  },
  {
   "cell_type": "code",
   "execution_count": 14,
   "metadata": {},
   "outputs": [],
   "source": [
    "well_height=125\n",
    "daily_distance=30\n",
    "nightly_distance=-20\n",
    "snail_position=30-20"
   ]
  },
  {
   "cell_type": "markdown",
   "metadata": {},
   "source": [
    "#### 2. Create a variable `days` to keep count of the days that pass until the snail escapes the well. "
   ]
  },
  {
   "cell_type": "code",
   "execution_count": 15,
   "metadata": {},
   "outputs": [],
   "source": [
    "days_elapsed=0"
   ]
  },
  {
   "cell_type": "markdown",
   "metadata": {},
   "source": [
    "#### 3. Find the solution to the challenge using the variables defined above. "
   ]
  },
  {
   "cell_type": "code",
   "execution_count": 16,
   "metadata": {},
   "outputs": [
    {
     "name": "stdout",
     "output_type": "stream",
     "text": [
      "Snail starts moving\n",
      "Snail hasn't reached the top of the well\n",
      "Snail hasn't reached the top of the well\n",
      "Snail hasn't reached the top of the well\n",
      "Snail hasn't reached the top of the well\n",
      "Snail hasn't reached the top of the well\n",
      "Snail hasn't reached the top of the well\n",
      "Snail hasn't reached the top of the well\n",
      "Snail hasn't reached the top of the well\n",
      "Snail hasn't reached the top of the well\n",
      "Snail hasn't reached the top of the well\n",
      "Snail hasn't reached the top of the well\n",
      "Snail hasn't reached the top of the well\n"
     ]
    }
   ],
   "source": [
    "print(\"Snail starts moving\")\n",
    "days_elapsed += snail_position\n",
    "\n",
    "while days_elapsed < well_height:\n",
    "    print(\"Snail hasn't reached the top of the well\")\n",
    "    days_elapsed += snail_position"
   ]
  },
  {
   "cell_type": "markdown",
   "metadata": {},
   "source": [
    "#### 4. Print the solution."
   ]
  },
  {
   "cell_type": "code",
   "execution_count": 17,
   "metadata": {},
   "outputs": [
    {
     "name": "stdout",
     "output_type": "stream",
     "text": [
      "The snail has finally reached the top of the well\n"
     ]
    }
   ],
   "source": [
    "print(\"The snail has finally reached the top of the well\")"
   ]
  },
  {
   "cell_type": "markdown",
   "metadata": {},
   "source": [
    "## Bonus\n",
    "The distance traveled by the snail each day is now defined by a list.\n",
    "```\n",
    "advance_cm = [30, 21, 33, 77, 44, 45, 23, 45, 12, 34, 55]\n",
    "```\n",
    "On the first day, the snail rises 30cm but during the night it slides 20cm. On the second day, the snail rises 21cm but during the night it slides 20cm, and so on. \n",
    "\n",
    "#### 1. How many days does it take for the snail to escape the well?\n",
    "Follow the same guidelines as in the previous challenge.\n",
    "\n",
    "**Hint**: Remember that the snail gets out of the well when it surpasses the 125cm of height."
   ]
  },
  {
   "cell_type": "code",
   "execution_count": 18,
   "metadata": {},
   "outputs": [
    {
     "name": "stdout",
     "output_type": "stream",
     "text": [
      "[10, 1, 13, 57, 24, 25, 3, 25, -8, 14, 35]\n",
      "[10, 11, 24, 81, 105, 130, 133, 158, 150, 164, 199]\n",
      "Unfortunately, the snail hasn't reached the top of the well :(\n",
      "Unfortunately, the snail hasn't reached the top of the well :(\n",
      "Unfortunately, the snail hasn't reached the top of the well :(\n",
      "Unfortunately, the snail hasn't reached the top of the well :(\n",
      "Unfortunately, the snail hasn't reached the top of the well :(\n",
      "The snail made it to the top on this sunny day :D\n",
      "The snail made it to the top on this sunny day :D\n",
      "The snail made it to the top on this sunny day :D\n",
      "The snail made it to the top on this sunny day :D\n",
      "The snail made it to the top on this sunny day :D\n",
      "The snail made it to the top on this sunny day :D\n"
     ]
    }
   ],
   "source": [
    "advance_cm = []\n",
    "advance_cm = [30, 21, 33, 77, 44, 45, 23, 45, 12, 34, 55]\n",
    "\n",
    "day = []\n",
    "\n",
    "for i in advance_cm:\n",
    "    total=i-20\n",
    "    day.append(total)\n",
    "\n",
    "print(day) \n",
    "\n",
    "day1=day[0]\n",
    "day2=day[1]+ day1\n",
    "day3=day[2]+ day2\n",
    "day4=day[3]+ day3\n",
    "day5=day[4]+ day4\n",
    "day6=day[5]+ day5\n",
    "day7=day[6]+ day6\n",
    "day8=day[7]+ day7\n",
    "day9=day[8]+ day8\n",
    "day10=day[9]+ day9\n",
    "day11=day[10]+ day10\n",
    "\n",
    "cummulative_day=[]\n",
    "cummulative_day=[day1,day2,day3,day4,day5,day6,day7,day8,day9,day10,day11]\n",
    "print(cummulative_day)\n",
    "\n",
    "if day1>125:\n",
    "    print(\"The snail made it to the top on this sunny day :D\")\n",
    "    \n",
    "else:\n",
    "    print(\"Unfortunately, the snail hasn't reached the top of the well :(\")\n",
    "    \n",
    "if day2>125:\n",
    "    print(\"The snail made it to the top on this sunny day :D\")\n",
    "    \n",
    "else:\n",
    "    print(\"Unfortunately, the snail hasn't reached the top of the well :(\")\n",
    "\n",
    "if day3>125:\n",
    "    print(\"The snail made it to the top on this sunny day :D\")\n",
    "    \n",
    "else:\n",
    "    print(\"Unfortunately, the snail hasn't reached the top of the well :(\")\n",
    "\n",
    "if day4>125:\n",
    "    print(\"The snail made it to the top on this sunny day :D\")\n",
    "    \n",
    "else:\n",
    "    print(\"Unfortunately, the snail hasn't reached the top of the well :(\")\n",
    "\n",
    "if day5>125:\n",
    "    print(\"The snail made it to the top on this sunny day :D\")\n",
    "    \n",
    "else:\n",
    "    print(\"Unfortunately, the snail hasn't reached the top of the well :(\")\n",
    "    \n",
    "if day6>125:\n",
    "    print(\"The snail made it to the top on this sunny day :D\")\n",
    "    \n",
    "else:\n",
    "    print(\"Unfortunately, the snail hasn't reached the top of the well :(\")\n",
    "\n",
    "if day7>125:\n",
    "    print(\"The snail made it to the top on this sunny day :D\")\n",
    "    \n",
    "else:\n",
    "    print(\"Unfortunately, the snail hasn't reached the top of the well :(\")\n",
    "\n",
    "if day8>125:\n",
    "    print(\"The snail made it to the top on this sunny day :D\")\n",
    "    \n",
    "else:\n",
    "    print(\"Unfortunately, the snail hasn't reached the top of the well :(\")\n",
    "    \n",
    "if day9>125:\n",
    "    print(\"The snail made it to the top on this sunny day :D\")\n",
    "    \n",
    "else:\n",
    "    print(\"Unfortunately, the snail hasn't reached the top of the well :(\")\n",
    "    \n",
    "if day10>125:\n",
    "    print(\"The snail made it to the top on this sunny day :D\")\n",
    "    \n",
    "else:\n",
    "    print(\"Unfortunately, the snail hasn't reached the top of the well :(\")\n",
    "\n",
    "if day11>125:\n",
    "    print(\"The snail made it to the top on this sunny day :D\")\n",
    "    \n",
    "else:\n",
    "    print(\"Unfortunately, the snail hasn't reached the top of the well :(\")\n",
    "    "
   ]
  },
  {
   "cell_type": "markdown",
   "metadata": {},
   "source": [
    "#### 2. What is its maximum displacement in one day? And its minimum? Calculate the displacement using only the travel distance of the days used to get out of the well. \n",
    "**Hint**: Remember that displacement means the total distance risen taking into account that the snail slides at night.  "
   ]
  },
  {
   "cell_type": "code",
   "execution_count": 33,
   "metadata": {},
   "outputs": [
    {
     "name": "stdout",
     "output_type": "stream",
     "text": [
      "the minimum displacement is -8  days.\n",
      "the maximum displacement is 57  days.\n"
     ]
    }
   ],
   "source": [
    "print(\"the minimum displacement is\",min(day),\" days.\")\n",
    "\n",
    "print(\"the maximum displacement is\",max(day),\" days.\")"
   ]
  },
  {
   "cell_type": "markdown",
   "metadata": {},
   "source": [
    "#### 4. What is the standard deviation of its displacement? Take into account the snail slides at night.\n",
    "\n",
    "\n"
   ]
  },
  {
   "cell_type": "code",
   "execution_count": 46,
   "metadata": {},
   "outputs": [
    {
     "name": "stdout",
     "output_type": "stream",
     "text": [
      "The original list : [10, 1, 13, 57, 24, 25, 3, 25, -8, 14, 35]\n",
      "Standard deviation of sample is : 17.159437082600803\n"
     ]
    }
   ],
   "source": [
    "import statistics \n",
    "\n",
    "print(\"The original list : \" + str(day)) \n",
    "\n",
    "res = statistics.pstdev(day) \n",
    "\n",
    "print(\"Standard deviation of sample is : \" + str(res))"
   ]
  },
  {
   "cell_type": "markdown",
   "metadata": {},
   "source": [
    "#### 3. What is its average progress? Take into account the snail slides at night."
   ]
  },
  {
   "cell_type": "code",
   "execution_count": 38,
   "metadata": {},
   "outputs": [
    {
     "name": "stdout",
     "output_type": "stream",
     "text": [
      "Average of the list is 18.09\n"
     ]
    }
   ],
   "source": [
    "from statistics import mean \n",
    "def Average(): \n",
    "    return mean(day)\n",
    "average = Average()\n",
    "print(\"Average of the list is\", round(average, 2),\".\") "
   ]
  }
 ],
 "metadata": {
  "kernelspec": {
   "display_name": "Python 3",
   "language": "python",
   "name": "python3"
  },
  "language_info": {
   "codemirror_mode": {
    "name": "ipython",
    "version": 3
   },
   "file_extension": ".py",
   "mimetype": "text/x-python",
   "name": "python",
   "nbconvert_exporter": "python",
   "pygments_lexer": "ipython3",
   "version": "3.8.3"
  }
 },
 "nbformat": 4,
 "nbformat_minor": 2
}
